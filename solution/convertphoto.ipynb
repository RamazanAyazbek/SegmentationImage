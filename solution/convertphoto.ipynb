{
 "cells": [
  {
   "cell_type": "code",
   "execution_count": 57,
   "id": "a159a77f",
   "metadata": {},
   "outputs": [],
   "source": []
  },
  {
   "cell_type": "code",
   "execution_count": 56,
   "id": "6c239ffe",
   "metadata": {},
   "outputs": [],
   "source": [
    "#create video"
   ]
  },
  {
   "cell_type": "code",
   "execution_count": null,
   "id": "651e8ca9",
   "metadata": {},
   "outputs": [],
   "source": []
  },
  {
   "cell_type": "code",
   "execution_count": 1,
   "id": "c5a8028b",
   "metadata": {},
   "outputs": [],
   "source": [
    "import cv2\n",
    "import numpy as np\n",
    "import glob\n",
    "\n"
   ]
  },
  {
   "cell_type": "code",
   "execution_count": 6,
   "id": "2675187e",
   "metadata": {},
   "outputs": [],
   "source": [
    "frameSize = (1920, 1080)\n",
    "\n",
    "out = cv2.VideoWriter('output_video7.mp4',cv2.VideoWriter_fourcc(*'MP4V'), 31, frameSize)\n",
    "#munda sozdat etiletin videonyn atyn beru kerek, naprimer : output_video7.mp4,  mp4-men bitui kerek mindetti \n"
   ]
  },
  {
   "cell_type": "code",
   "execution_count": 7,
   "id": "8d177fd7",
   "metadata": {},
   "outputs": [],
   "source": [
    "for filename in glob.glob('C:/video-frames/*.jpg'):#munda cadrlardy kaidan aluy kerek file ga put korsetilui kerek\n",
    "    img = cv2.imread(filename)\n",
    "    out.write(img)\n",
    "\n",
    "out.release()"
   ]
  },
  {
   "cell_type": "code",
   "execution_count": null,
   "id": "b57fa758",
   "metadata": {},
   "outputs": [],
   "source": []
  },
  {
   "cell_type": "code",
   "execution_count": null,
   "id": "0d84161d",
   "metadata": {},
   "outputs": [],
   "source": []
  }
 ],
 "metadata": {
  "kernelspec": {
   "display_name": "Python 3 (ipykernel)",
   "language": "python",
   "name": "python3"
  },
  "language_info": {
   "codemirror_mode": {
    "name": "ipython",
    "version": 3
   },
   "file_extension": ".py",
   "mimetype": "text/x-python",
   "name": "python",
   "nbconvert_exporter": "python",
   "pygments_lexer": "ipython3",
   "version": "3.9.7"
  }
 },
 "nbformat": 4,
 "nbformat_minor": 5
}
